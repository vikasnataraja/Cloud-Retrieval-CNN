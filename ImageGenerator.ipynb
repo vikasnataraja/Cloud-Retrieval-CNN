{
 "cells": [
  {
   "cell_type": "code",
   "execution_count": 2,
   "metadata": {},
   "outputs": [],
   "source": [
    "import numpy as np\n",
    "import os\n",
    "import keras\n",
    "from keras.preprocessing.image import ImageDataGenerator\n",
    "from collections import defaultdict\n",
    "import random"
   ]
  },
  {
   "cell_type": "code",
   "execution_count": null,
   "metadata": {},
   "outputs": [],
   "source": [
    "train_generator = ImageDataGenerator()"
   ]
  },
  {
   "cell_type": "code",
   "execution_count": null,
   "metadata": {},
   "outputs": [],
   "source": [
    "def update_inputs(batch_size = None, input_size = None, num_classes = None):\n",
    "    return np.zeros([batch_size, input_size[0], input_size[1], 3]), \\\n",
    "        np.zeros([batch_size, input_size[0], input_size[1], num_classes])\n",
    "\n",
    "\n",
    "def data_generator(datadir='', nb_classes = None, \n",
    "                   batch_size = 16, input_size=None, \n",
    "                   separator='_', test_nmb=50):\n",
    "    \n",
    "    if not os.path.exists(datadir):\n",
    "        print('ERROR! The folder {} does not exist\\n'.format(datadir))\n",
    "    #listdir = os.listdir(datadir)\n",
    "    data = defaultdict(dict)\n",
    "    #image_dir = os.path.join(datadir, \"imgs\")\n",
    "    image_paths = os.listdir(image_dir)\n",
    "    for image_path in image_paths:\n",
    "        nmb = image_path.split(separator)[0]\n",
    "        data[nmb]['image'] = image_path\n",
    "    #anno_dir = os.path.join(datadir, \"maps_bordered\")\n",
    "    anno_paths = os.listdir(anno_dir)\n",
    "    for anno_path in anno_paths:\n",
    "        nmb = anno_path.split(separator)[0]\n",
    "        data[nmb]['anno'] = anno_path\n",
    "    values = data.values()\n",
    "    random.shuffle(values)\n",
    "    return generate(values[test_nmb:], nb_classes, batch_size, input_size, image_dir, anno_dir), \\\n",
    "      generate(values[:test_nmb], nb_classes, batch_size, input_size, image_dir, anno_dir)\n",
    "\n",
    "def generate(values, nb_classes, batch_size, input_size, image_dir, anno_dir):\n",
    "    while 1:\n",
    "        random.shuffle(values)\n",
    "        images, labels = update_inputs(batch_size=batch_size,\n",
    "                                       input_size=input_size, \n",
    "                                       num_classes=nb_classes)\n",
    "        for i, d in enumerate(values):\n",
    "            img = imresize(imread(os.path.join(image_dir, d['image']), mode='RGB'), \n",
    "                                   input_size)\n",
    "            y = imread(os.path.join(anno_dir, d['anno']), mode='L')\n",
    "            h, w = input_size\n",
    "            #y = zoom(y, (1.*h/y.shape[0], 1.*w/y.shape[1]), order=1, prefilter=False)\n",
    "            y = (np.arange(nb_classes) == y[:,:,None]).astype('float32')\n",
    "            assert y.shape[2] == nb_classes\n",
    "            images[i%batch_size] = img\n",
    "            labels[i%batch_size] = y\n",
    "            if (i+1)%batch_size == 0:\n",
    "                yield images, labels\n",
    "                images, labels = update_inputs(batch_size=batch_size,\n",
    "                                               input_size=input_size, \n",
    "                                               num_classes=nb_classes)\n"
   ]
  }
 ],
 "metadata": {
  "kernelspec": {
   "display_name": "Python 3",
   "language": "python",
   "name": "python3"
  },
  "language_info": {
   "codemirror_mode": {
    "name": "ipython",
    "version": 3
   },
   "file_extension": ".py",
   "mimetype": "text/x-python",
   "name": "python",
   "nbconvert_exporter": "python",
   "pygments_lexer": "ipython3",
   "version": "3.7.4"
  }
 },
 "nbformat": 4,
 "nbformat_minor": 2
}
