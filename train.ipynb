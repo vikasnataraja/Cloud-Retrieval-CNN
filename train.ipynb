{
 "cells": [
  {
   "cell_type": "code",
   "execution_count": 4,
   "metadata": {},
   "outputs": [],
   "source": [
    "import numpy as np\n",
    "import keras\n",
    "import tensorflow as tf\n",
    "from keras.models import Model\n",
    "import model as mod\n",
    "from keras.layers import Input\n",
    "from keras.optimizers import Adam\n",
    "from keras.callbacks import ModelCheckpoint\n",
    "import os,sys\n",
    "\n",
    "lr = 1e-4\n",
    "def build_PSPNet_model(input_shape,num_channels):\n",
    "    \n",
    "    input_layer = Input((input_shape[0],input_shape[1],num_channels))\n",
    "    resnet_block = mod.ResNet(input_layer)\n",
    "    spp_block = mod.build_pyramid_pooling_module(resnet_block)\n",
    "    deconv_layer = mod.add_deconvolution_layer(concat_layer=spp_block)\n",
    "    model = Model(inputs=input_layer,outputs=deconv_layer)\n",
    "    \n",
    "    adam = Adam(learning_rate=lr)\n",
    "    \n",
    "    model.compile(optimizer=adam,\n",
    "                  loss='categorical_crossentropy',\n",
    "                  metrics=['accuracy'])\n",
    "    return model\n",
    "\n",
    "def train_model(model, filepath, train_generator, val_generator,\n",
    "                epochs=25, steps_per_epoch=50):\n",
    "    \n",
    "    checkpoint = ModelCheckpoint(filepath,save_best_only=False, verbose=1, period=1)\n",
    "    \n",
    "    print('Model will be saved in' \n",
    "          ' directory: {} as {}\\n'.format(os.path.split(filepath)[0],os.path.split(filepath)[1]))\n",
    "    \n",
    "    model.fit_generator(train_generator,\n",
    "                        validation_data=train_generator,\n",
    "                        callbacks=[checkpoint],\n",
    "                        epochs=epochs,verbose=1,\n",
    "                        steps_per_epoch=steps_per_epoch)\n",
    "    \n",
    "    print('Finished training model. Exiting function ...\\n')\n",
    "\n",
    "def data_generator():\n",
    "    \"\"\"have to write a class for this in a separate file\"\"\"\n",
    "    pass\n"
   ]
  }
 ],
 "metadata": {
  "kernelspec": {
   "display_name": "Python 3",
   "language": "python",
   "name": "python3"
  },
  "language_info": {
   "codemirror_mode": {
    "name": "ipython",
    "version": 3
   },
   "file_extension": ".py",
   "mimetype": "text/x-python",
   "name": "python",
   "nbconvert_exporter": "python",
   "pygments_lexer": "ipython3",
   "version": "3.7.4"
  }
 },
 "nbformat": 4,
 "nbformat_minor": 2
}
