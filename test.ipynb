{
 "cells": [
  {
   "cell_type": "code",
   "execution_count": 1,
   "metadata": {},
   "outputs": [],
   "source": [
    "import sys,os\n",
    "import numpy as np\n",
    "import matplotlib.pyplot as plt"
   ]
  },
  {
   "cell_type": "raw",
   "metadata": {},
   "source": [
    "im_path = '/home/viha4393/Downloads/VOCdevkit/VOC2012/JPEGImages/'\n",
    "anno_path = '/home/viha4393/Downloads/VOCdevkit/VOC2012/SegmentationClass/'\n",
    "annos,ims = [],[]\n",
    "\n",
    "for i in range(len(os.listdir(anno_path))):\n",
    "    annos.append(os.path.basename(os.listdir(anno_path)[i])[:11])\n",
    "\n",
    "for i in range(len(os.listdir(im_path))):\n",
    "    ims.append(os.path.basename(os.listdir(im_path)[i])[:11])\n",
    "\n",
    "\n",
    "x = set(annos) & set(ims)\n",
    "xx = list(x)\n",
    "with open('segment_images.txt', 'w') as f:\n",
    "    for item in xx:\n",
    "        f.write(\"{}\\n\".format(item))"
   ]
  },
  {
   "cell_type": "code",
   "execution_count": 12,
   "metadata": {},
   "outputs": [],
   "source": []
  },
  {
   "cell_type": "code",
   "execution_count": 14,
   "metadata": {},
   "outputs": [],
   "source": []
  },
  {
   "cell_type": "code",
   "execution_count": null,
   "metadata": {},
   "outputs": [],
   "source": []
  }
 ],
 "metadata": {
  "kernelspec": {
   "display_name": "Python 3",
   "language": "python",
   "name": "python3"
  },
  "language_info": {
   "codemirror_mode": {
    "name": "ipython",
    "version": 3
   },
   "file_extension": ".py",
   "mimetype": "text/x-python",
   "name": "python",
   "nbconvert_exporter": "python",
   "pygments_lexer": "ipython3",
   "version": "3.7.4"
  }
 },
 "nbformat": 4,
 "nbformat_minor": 2
}
