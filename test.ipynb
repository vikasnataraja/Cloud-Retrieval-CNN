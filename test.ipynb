{
 "cells": [
  {
   "cell_type": "code",
   "execution_count": 1,
   "metadata": {},
   "outputs": [],
   "source": [
    "import sys,os\n",
    "import numpy as np\n",
    "import matplotlib.pyplot as plt"
   ]
  },
  {
   "cell_type": "code",
   "execution_count": 16,
   "metadata": {},
   "outputs": [
    {
     "name": "stdout",
     "output_type": "stream",
     "text": [
      "/home/viha4393/Downloads/VOCdevkit/VOC2012/SegmentationClass\n"
     ]
    }
   ],
   "source": [
    "cd ~/Downloads/VOCdevkit/VOC2012/SegmentationClass/"
   ]
  },
  {
   "cell_type": "code",
   "execution_count": 18,
   "metadata": {},
   "outputs": [
    {
     "data": {
      "text/plain": [
       "<matplotlib.image.AxesImage at 0x7f5ceaf4f9d0>"
      ]
     },
     "execution_count": 18,
     "metadata": {},
     "output_type": "execute_result"
    },
    {
     "data": {
      "image/png": "[encoded data removed]",
      "text/plain": [
       "<Figure size 432x288 with 1 Axes>"
      ]
     },
     "metadata": {
      "needs_background": "light"
     },
     "output_type": "display_data"
    }
   ],
   "source": [
    "img = plt.imread('2007_000032.png')\n",
    "plt.imshow(img)"
   ]
  },
  {
   "cell_type": "code",
   "execution_count": 27,
   "metadata": {},
   "outputs": [
    {
     "name": "stderr",
     "output_type": "stream",
     "text": [
      "Clipping input data to the valid range for imshow with RGB data ([0..1] for floats or [0..255] for integers).\n"
     ]
    },
    {
     "data": {
      "text/plain": [
       "<matplotlib.image.AxesImage at 0x7f5cee264190>"
      ]
     },
     "execution_count": 27,
     "metadata": {},
     "output_type": "execute_result"
    },
    {
     "data": {
      "image/png": "[encoded data removed]",
      "text/plain": [
       "<Figure size 432x288 with 1 Axes>"
      ]
     },
     "metadata": {
      "needs_background": "light"
     },
     "output_type": "display_data"
    }
   ],
   "source": [
    "plt.imshow(img*255)"
   ]
  },
  {
   "cell_type": "code",
   "execution_count": 30,
   "metadata": {},
   "outputs": [],
   "source": [
    "from collections import namedtuple\n",
    "import numpy as np\n",
    "\n",
    "Label = namedtuple('Label', [\n",
    "\n",
    "    'name',\n",
    "    'id',\n",
    "    'color'\n",
    "])\n",
    "\n",
    "labels = [Label('background', 0, (0, 0, 0)),\n",
    "          Label('aeroplane', 1, (128, 0, 0)),\n",
    "          Label('bicycle', 2, (0, 128, 0)),\n",
    "          Label('bird', 3, (128, 128, 0)),\n",
    "          Label('boat', 4, (0, 0, 128)),\n",
    "          Label('bottle', 5, (128, 0, 128)),\n",
    "          Label('bus', 6, (0, 128, 128)),\n",
    "          Label('car', 7, (128, 128, 128)),\n",
    "          Label('cat', 8, (64, 0, 0)),\n",
    "          Label('chair', 9, (192, 0, 0)),\n",
    "          Label('cow', 10, (64, 128, 0)),\n",
    "          Label('diningtable', 11, (192, 128, 0)),\n",
    "          Label('dog', 12, (64, 0, 128)),\n",
    "          Label('horse', 13, (192, 0, 128)),\n",
    "          Label('motorbike', 14, (64, 128, 128)),\n",
    "          Label('person', 15, (192, 128, 128)),\n",
    "          Label('pottedplant', 16, (0, 64, 0)),\n",
    "          Label('sheep', 17, (128, 64, 0)),\n",
    "          Label('sofa', 18, (0, 192, 0)),\n",
    "          Label('train', 19, (128, 192, 0)),\n",
    "          Label('tvmonitor', 20, (0, 64, 128)),\n",
    "          Label('void', 21, (128, 64, 12))]\n",
    "\n",
    "voc_id2label = {label.id: label for label in labels}\n",
    "\n",
    "\n",
    "def generate_color_map(N=256, normalized=False):\n",
    "    \"\"\"from https://gist.github.com/wllhf/a4533e0adebe57e3ed06d4b50c8419ae .\"\"\"\n",
    "    def bitget(byteval, idx):\n",
    "        return ((byteval & (1 << idx)) != 0)\n",
    "\n",
    "    dtype = 'float32' if normalized else 'uint8'\n",
    "    cmap = np.zeros((N, 3), dtype=dtype)\n",
    "    for i in range(N):\n",
    "        r = g = b = 0\n",
    "        c = i\n",
    "        for j in range(8):\n",
    "            r = r | (bitget(c, 0) << 7 - j)\n",
    "            g = g | (bitget(c, 1) << 7 - j)\n",
    "            b = b | (bitget(c, 2) << 7 - j)\n",
    "            c = c >> 3\n",
    "\n",
    "        cmap[i] = np.array([r, g, b])\n",
    "\n",
    "    cmap = cmap / 255 if normalized else cmap\n",
    "    return cmap\n",
    "\n",
    "\n",
    "def generate_voc_labels():\n",
    "    labels = ['background', 'aeroplane', 'bicycle', 'bird', 'boat', 'bottle', 'bus', 'car', 'cat', 'chair', 'cow',\n",
    "              'diningtable', 'dog', 'horse', 'motorbike', 'person', 'pottedplant', 'sheep', 'sofa', 'train', 'tvmonitor', 'void']\n",
    "    color_map = generate_color_map()\n",
    "    #plt.imshow(color_map)\n",
    "    for id, name in enumerate(labels):\n",
    "        color = color_map[id]\n",
    "        \n",
    "        print(\"Label(\\'%s\\', %i, (%i, %i, %i)),\" %\n",
    "              (name, id, color[0], color[1], color[2]))"
   ]
  },
  {
   "cell_type": "code",
   "execution_count": 31,
   "metadata": {},
   "outputs": [
    {
     "name": "stdout",
     "output_type": "stream",
     "text": [
      "Label('background', 0, (0, 0, 0)),\n",
      "Label('aeroplane', 1, (128, 0, 0)),\n",
      "Label('bicycle', 2, (0, 128, 0)),\n",
      "Label('bird', 3, (128, 128, 0)),\n",
      "Label('boat', 4, (0, 0, 128)),\n",
      "Label('bottle', 5, (128, 0, 128)),\n",
      "Label('bus', 6, (0, 128, 128)),\n",
      "Label('car', 7, (128, 128, 128)),\n",
      "Label('cat', 8, (64, 0, 0)),\n",
      "Label('chair', 9, (192, 0, 0)),\n",
      "Label('cow', 10, (64, 128, 0)),\n",
      "Label('diningtable', 11, (192, 128, 0)),\n",
      "Label('dog', 12, (64, 0, 128)),\n",
      "Label('horse', 13, (192, 0, 128)),\n",
      "Label('motorbike', 14, (64, 128, 128)),\n",
      "Label('person', 15, (192, 128, 128)),\n",
      "Label('pottedplant', 16, (0, 64, 0)),\n",
      "Label('sheep', 17, (128, 64, 0)),\n",
      "Label('sofa', 18, (0, 192, 0)),\n",
      "Label('train', 19, (128, 192, 0)),\n",
      "Label('tvmonitor', 20, (0, 64, 128)),\n",
      "Label('void', 21, (128, 64, 128)),\n"
     ]
    },
    {
     "data": {
      "image/png": "[encoded data removed]",
      "text/plain": [
       "<Figure size 432x288 with 1 Axes>"
      ]
     },
     "metadata": {
      "needs_background": "light"
     },
     "output_type": "display_data"
    }
   ],
   "source": [
    "generate_voc_labels()"
   ]
  },
  {
   "cell_type": "code",
   "execution_count": null,
   "metadata": {},
   "outputs": [],
   "source": []
  }
 ],
 "metadata": {
  "kernelspec": {
   "display_name": "Python 3",
   "language": "python",
   "name": "python3"
  },
  "language_info": {
   "codemirror_mode": {
    "name": "ipython",
    "version": 3
   },
   "file_extension": ".py",
   "mimetype": "text/x-python",
   "name": "python",
   "nbconvert_exporter": "python",
   "pygments_lexer": "ipython3",
   "version": "3.7.4"
  }
 },
 "nbformat": 4,
 "nbformat_minor": 2
}
